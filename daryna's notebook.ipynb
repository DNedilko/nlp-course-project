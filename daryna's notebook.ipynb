{
 "cells": [
  {
   "cell_type": "markdown",
   "source": [
    "## Week 36\n",
    "Familiarize yourself with the dataset card, download the dataset and explore its\n",
    "columns. Summarize data statistics (size, word count, etc.) for training and\n",
    "validation data in the languages Arabic (ar), Korean (ko) and Telugu (te).\n",
    "\n",
    "For each of the languages Arabic, Korean and Telugu, report the 5 most\n",
    "common words in the questions from the training set and their count, as well\n",
    "as their English translation. What kind of words are they?\n",
    "\n",
    "Implement a rule-based classifier that predicts whether a question is an-\n",
    "swerable or impossible, only using the document (context) and question.\n",
    "\n",
    "You\n",
    "may use machine translation as a component. Use the answerable field to\n",
    "evaluate it on the validation set. What is the performance of your classifier for\n",
    "each of the languages Arabic, Korean and Telugu?"
   ],
   "metadata": {
    "collapsed": false
   }
  },
  {
   "cell_type": "code",
   "execution_count": 4,
   "outputs": [
    {
     "ename": "ValueError",
     "evalue": "Couldn't infer the same data file format for all splits. Got {NamedSplit('train'): ('parquet', {}), NamedSplit('validation'): ('parquet', {}), NamedSplit('test'): ('json', {})}",
     "output_type": "error",
     "traceback": [
      "\u001B[1;31m---------------------------------------------------------------------------\u001B[0m",
      "\u001B[1;31mValueError\u001B[0m                                Traceback (most recent call last)",
      "Cell \u001B[1;32mIn[4], line 2\u001B[0m\n\u001B[0;32m      1\u001B[0m \u001B[38;5;28;01mfrom\u001B[39;00m\u001B[38;5;250m \u001B[39m\u001B[38;5;21;01mdatasets\u001B[39;00m\u001B[38;5;250m \u001B[39m\u001B[38;5;28;01mimport\u001B[39;00m load_dataset\n\u001B[1;32m----> 2\u001B[0m dataset \u001B[38;5;241m=\u001B[39m \u001B[43mload_dataset\u001B[49m\u001B[43m(\u001B[49m\u001B[38;5;124;43m\"\u001B[39;49m\u001B[38;5;124;43mcoastalcph/tydi_xor_rc\u001B[39;49m\u001B[38;5;124;43m\"\u001B[39;49m\u001B[43m)\u001B[49m\n\u001B[0;32m      3\u001B[0m train_set \u001B[38;5;241m=\u001B[39m dataset[\u001B[38;5;124m\"\u001B[39m\u001B[38;5;124mtrain\u001B[39m\u001B[38;5;124m\"\u001B[39m]\n\u001B[0;32m      4\u001B[0m validation_set \u001B[38;5;241m=\u001B[39m dataset[\u001B[38;5;124m\"\u001B[39m\u001B[38;5;124mvalidation\u001B[39m\u001B[38;5;124m\"\u001B[39m]\n",
      "File \u001B[1;32m~\\PycharmProjects\\nlp-course-project\\newvenv\\lib\\site-packages\\datasets\\load.py:1392\u001B[0m, in \u001B[0;36mload_dataset\u001B[1;34m(path, name, data_dir, data_files, split, cache_dir, features, download_config, download_mode, verification_mode, keep_in_memory, save_infos, revision, token, streaming, num_proc, storage_options, **config_kwargs)\u001B[0m\n\u001B[0;32m   1387\u001B[0m verification_mode \u001B[38;5;241m=\u001B[39m VerificationMode(\n\u001B[0;32m   1388\u001B[0m     (verification_mode \u001B[38;5;129;01mor\u001B[39;00m VerificationMode\u001B[38;5;241m.\u001B[39mBASIC_CHECKS) \u001B[38;5;28;01mif\u001B[39;00m \u001B[38;5;129;01mnot\u001B[39;00m save_infos \u001B[38;5;28;01melse\u001B[39;00m VerificationMode\u001B[38;5;241m.\u001B[39mALL_CHECKS\n\u001B[0;32m   1389\u001B[0m )\n\u001B[0;32m   1391\u001B[0m \u001B[38;5;66;03m# Create a dataset builder\u001B[39;00m\n\u001B[1;32m-> 1392\u001B[0m builder_instance \u001B[38;5;241m=\u001B[39m load_dataset_builder(\n\u001B[0;32m   1393\u001B[0m     path\u001B[38;5;241m=\u001B[39mpath,\n\u001B[0;32m   1394\u001B[0m     name\u001B[38;5;241m=\u001B[39mname,\n\u001B[0;32m   1395\u001B[0m     data_dir\u001B[38;5;241m=\u001B[39mdata_dir,\n\u001B[0;32m   1396\u001B[0m     data_files\u001B[38;5;241m=\u001B[39mdata_files,\n\u001B[0;32m   1397\u001B[0m     cache_dir\u001B[38;5;241m=\u001B[39mcache_dir,\n\u001B[0;32m   1398\u001B[0m     features\u001B[38;5;241m=\u001B[39mfeatures,\n\u001B[0;32m   1399\u001B[0m     download_config\u001B[38;5;241m=\u001B[39mdownload_config,\n\u001B[0;32m   1400\u001B[0m     download_mode\u001B[38;5;241m=\u001B[39mdownload_mode,\n\u001B[0;32m   1401\u001B[0m     revision\u001B[38;5;241m=\u001B[39mrevision,\n\u001B[0;32m   1402\u001B[0m     token\u001B[38;5;241m=\u001B[39mtoken,\n\u001B[0;32m   1403\u001B[0m     storage_options\u001B[38;5;241m=\u001B[39mstorage_options,\n\u001B[0;32m   1404\u001B[0m     \u001B[38;5;241m*\u001B[39m\u001B[38;5;241m*\u001B[39mconfig_kwargs,\n\u001B[0;32m   1405\u001B[0m )\n\u001B[0;32m   1407\u001B[0m \u001B[38;5;66;03m# Return iterable dataset in case of streaming\u001B[39;00m\n\u001B[0;32m   1408\u001B[0m \u001B[38;5;28;01mif\u001B[39;00m streaming:\n",
      "File \u001B[1;32m~\\PycharmProjects\\nlp-course-project\\newvenv\\lib\\site-packages\\datasets\\load.py:1132\u001B[0m, in \u001B[0;36mload_dataset_builder\u001B[1;34m(path, name, data_dir, data_files, cache_dir, features, download_config, download_mode, revision, token, storage_options, **config_kwargs)\u001B[0m\n\u001B[0;32m   1130\u001B[0m \u001B[38;5;28;01mif\u001B[39;00m features \u001B[38;5;129;01mis\u001B[39;00m \u001B[38;5;129;01mnot\u001B[39;00m \u001B[38;5;28;01mNone\u001B[39;00m:\n\u001B[0;32m   1131\u001B[0m     features \u001B[38;5;241m=\u001B[39m _fix_for_backward_compatible_features(features)\n\u001B[1;32m-> 1132\u001B[0m dataset_module \u001B[38;5;241m=\u001B[39m \u001B[43mdataset_module_factory\u001B[49m\u001B[43m(\u001B[49m\n\u001B[0;32m   1133\u001B[0m \u001B[43m    \u001B[49m\u001B[43mpath\u001B[49m\u001B[43m,\u001B[49m\n\u001B[0;32m   1134\u001B[0m \u001B[43m    \u001B[49m\u001B[43mrevision\u001B[49m\u001B[38;5;241;43m=\u001B[39;49m\u001B[43mrevision\u001B[49m\u001B[43m,\u001B[49m\n\u001B[0;32m   1135\u001B[0m \u001B[43m    \u001B[49m\u001B[43mdownload_config\u001B[49m\u001B[38;5;241;43m=\u001B[39;49m\u001B[43mdownload_config\u001B[49m\u001B[43m,\u001B[49m\n\u001B[0;32m   1136\u001B[0m \u001B[43m    \u001B[49m\u001B[43mdownload_mode\u001B[49m\u001B[38;5;241;43m=\u001B[39;49m\u001B[43mdownload_mode\u001B[49m\u001B[43m,\u001B[49m\n\u001B[0;32m   1137\u001B[0m \u001B[43m    \u001B[49m\u001B[43mdata_dir\u001B[49m\u001B[38;5;241;43m=\u001B[39;49m\u001B[43mdata_dir\u001B[49m\u001B[43m,\u001B[49m\n\u001B[0;32m   1138\u001B[0m \u001B[43m    \u001B[49m\u001B[43mdata_files\u001B[49m\u001B[38;5;241;43m=\u001B[39;49m\u001B[43mdata_files\u001B[49m\u001B[43m,\u001B[49m\n\u001B[0;32m   1139\u001B[0m \u001B[43m    \u001B[49m\u001B[43mcache_dir\u001B[49m\u001B[38;5;241;43m=\u001B[39;49m\u001B[43mcache_dir\u001B[49m\u001B[43m,\u001B[49m\n\u001B[0;32m   1140\u001B[0m \u001B[43m\u001B[49m\u001B[43m)\u001B[49m\n\u001B[0;32m   1141\u001B[0m \u001B[38;5;66;03m# Get dataset builder class\u001B[39;00m\n\u001B[0;32m   1142\u001B[0m builder_kwargs \u001B[38;5;241m=\u001B[39m dataset_module\u001B[38;5;241m.\u001B[39mbuilder_kwargs\n",
      "File \u001B[1;32m~\\PycharmProjects\\nlp-course-project\\newvenv\\lib\\site-packages\\datasets\\load.py:1031\u001B[0m, in \u001B[0;36mdataset_module_factory\u001B[1;34m(path, revision, download_config, download_mode, data_dir, data_files, cache_dir, **download_kwargs)\u001B[0m\n\u001B[0;32m   1026\u001B[0m             \u001B[38;5;28;01mif\u001B[39;00m \u001B[38;5;28misinstance\u001B[39m(e1, \u001B[38;5;167;01mFileNotFoundError\u001B[39;00m):\n\u001B[0;32m   1027\u001B[0m                 \u001B[38;5;28;01mraise\u001B[39;00m \u001B[38;5;167;01mFileNotFoundError\u001B[39;00m(\n\u001B[0;32m   1028\u001B[0m                     \u001B[38;5;124mf\u001B[39m\u001B[38;5;124m\"\u001B[39m\u001B[38;5;124mCouldn\u001B[39m\u001B[38;5;124m'\u001B[39m\u001B[38;5;124mt find any data file at \u001B[39m\u001B[38;5;132;01m{\u001B[39;00mrelative_to_absolute_path(path)\u001B[38;5;132;01m}\u001B[39;00m\u001B[38;5;124m. \u001B[39m\u001B[38;5;124m\"\u001B[39m\n\u001B[0;32m   1029\u001B[0m                     \u001B[38;5;124mf\u001B[39m\u001B[38;5;124m\"\u001B[39m\u001B[38;5;124mCouldn\u001B[39m\u001B[38;5;124m'\u001B[39m\u001B[38;5;124mt find \u001B[39m\u001B[38;5;124m'\u001B[39m\u001B[38;5;132;01m{\u001B[39;00mpath\u001B[38;5;132;01m}\u001B[39;00m\u001B[38;5;124m'\u001B[39m\u001B[38;5;124m on the Hugging Face Hub either: \u001B[39m\u001B[38;5;132;01m{\u001B[39;00m\u001B[38;5;28mtype\u001B[39m(e1)\u001B[38;5;241m.\u001B[39m\u001B[38;5;18m__name__\u001B[39m\u001B[38;5;132;01m}\u001B[39;00m\u001B[38;5;124m: \u001B[39m\u001B[38;5;132;01m{\u001B[39;00me1\u001B[38;5;132;01m}\u001B[39;00m\u001B[38;5;124m\"\u001B[39m\n\u001B[0;32m   1030\u001B[0m                 ) \u001B[38;5;28;01mfrom\u001B[39;00m\u001B[38;5;250m \u001B[39m\u001B[38;5;28;01mNone\u001B[39;00m\n\u001B[1;32m-> 1031\u001B[0m             \u001B[38;5;28;01mraise\u001B[39;00m e1 \u001B[38;5;28;01mfrom\u001B[39;00m\u001B[38;5;250m \u001B[39m\u001B[38;5;28;01mNone\u001B[39;00m\n\u001B[0;32m   1032\u001B[0m \u001B[38;5;28;01melse\u001B[39;00m:\n\u001B[0;32m   1033\u001B[0m     \u001B[38;5;28;01mraise\u001B[39;00m \u001B[38;5;167;01mFileNotFoundError\u001B[39;00m(\u001B[38;5;124mf\u001B[39m\u001B[38;5;124m\"\u001B[39m\u001B[38;5;124mCouldn\u001B[39m\u001B[38;5;124m'\u001B[39m\u001B[38;5;124mt find any data file at \u001B[39m\u001B[38;5;132;01m{\u001B[39;00mrelative_to_absolute_path(path)\u001B[38;5;132;01m}\u001B[39;00m\u001B[38;5;124m.\u001B[39m\u001B[38;5;124m\"\u001B[39m)\n",
      "File \u001B[1;32m~\\PycharmProjects\\nlp-course-project\\newvenv\\lib\\site-packages\\datasets\\load.py:996\u001B[0m, in \u001B[0;36mdataset_module_factory\u001B[1;34m(path, revision, download_config, download_mode, data_dir, data_files, cache_dir, **download_kwargs)\u001B[0m\n\u001B[0;32m    994\u001B[0m     \u001B[38;5;28;01melse\u001B[39;00m:\n\u001B[0;32m    995\u001B[0m         use_exported_dataset_infos \u001B[38;5;241m=\u001B[39m \u001B[38;5;28;01mTrue\u001B[39;00m\n\u001B[1;32m--> 996\u001B[0m     \u001B[38;5;28;01mreturn\u001B[39;00m \u001B[43mHubDatasetModuleFactory\u001B[49m\u001B[43m(\u001B[49m\n\u001B[0;32m    997\u001B[0m \u001B[43m        \u001B[49m\u001B[43mpath\u001B[49m\u001B[43m,\u001B[49m\n\u001B[0;32m    998\u001B[0m \u001B[43m        \u001B[49m\u001B[43mcommit_hash\u001B[49m\u001B[38;5;241;43m=\u001B[39;49m\u001B[43mcommit_hash\u001B[49m\u001B[43m,\u001B[49m\n\u001B[0;32m    999\u001B[0m \u001B[43m        \u001B[49m\u001B[43mdata_dir\u001B[49m\u001B[38;5;241;43m=\u001B[39;49m\u001B[43mdata_dir\u001B[49m\u001B[43m,\u001B[49m\n\u001B[0;32m   1000\u001B[0m \u001B[43m        \u001B[49m\u001B[43mdata_files\u001B[49m\u001B[38;5;241;43m=\u001B[39;49m\u001B[43mdata_files\u001B[49m\u001B[43m,\u001B[49m\n\u001B[0;32m   1001\u001B[0m \u001B[43m        \u001B[49m\u001B[43mdownload_config\u001B[49m\u001B[38;5;241;43m=\u001B[39;49m\u001B[43mdownload_config\u001B[49m\u001B[43m,\u001B[49m\n\u001B[0;32m   1002\u001B[0m \u001B[43m        \u001B[49m\u001B[43mdownload_mode\u001B[49m\u001B[38;5;241;43m=\u001B[39;49m\u001B[43mdownload_mode\u001B[49m\u001B[43m,\u001B[49m\n\u001B[0;32m   1003\u001B[0m \u001B[43m        \u001B[49m\u001B[43muse_exported_dataset_infos\u001B[49m\u001B[38;5;241;43m=\u001B[39;49m\u001B[43muse_exported_dataset_infos\u001B[49m\u001B[43m,\u001B[49m\n\u001B[0;32m   1004\u001B[0m \u001B[43m    \u001B[49m\u001B[43m)\u001B[49m\u001B[38;5;241;43m.\u001B[39;49m\u001B[43mget_module\u001B[49m\u001B[43m(\u001B[49m\u001B[43m)\u001B[49m\n\u001B[0;32m   1005\u001B[0m \u001B[38;5;28;01mexcept\u001B[39;00m GatedRepoError \u001B[38;5;28;01mas\u001B[39;00m e:\n\u001B[0;32m   1006\u001B[0m     message \u001B[38;5;241m=\u001B[39m \u001B[38;5;124mf\u001B[39m\u001B[38;5;124m\"\u001B[39m\u001B[38;5;124mDataset \u001B[39m\u001B[38;5;124m'\u001B[39m\u001B[38;5;132;01m{\u001B[39;00mpath\u001B[38;5;132;01m}\u001B[39;00m\u001B[38;5;124m'\u001B[39m\u001B[38;5;124m is a gated dataset on the Hub.\u001B[39m\u001B[38;5;124m\"\u001B[39m\n",
      "File \u001B[1;32m~\\PycharmProjects\\nlp-course-project\\newvenv\\lib\\site-packages\\datasets\\load.py:638\u001B[0m, in \u001B[0;36mHubDatasetModuleFactory.get_module\u001B[1;34m(self)\u001B[0m\n\u001B[0;32m    631\u001B[0m     patterns \u001B[38;5;241m=\u001B[39m get_data_patterns(base_path, download_config\u001B[38;5;241m=\u001B[39m\u001B[38;5;28mself\u001B[39m\u001B[38;5;241m.\u001B[39mdownload_config)\n\u001B[0;32m    632\u001B[0m data_files \u001B[38;5;241m=\u001B[39m DataFilesDict\u001B[38;5;241m.\u001B[39mfrom_patterns(\n\u001B[0;32m    633\u001B[0m     patterns,\n\u001B[0;32m    634\u001B[0m     base_path\u001B[38;5;241m=\u001B[39mbase_path,\n\u001B[0;32m    635\u001B[0m     allowed_extensions\u001B[38;5;241m=\u001B[39mALL_ALLOWED_EXTENSIONS,\n\u001B[0;32m    636\u001B[0m     download_config\u001B[38;5;241m=\u001B[39m\u001B[38;5;28mself\u001B[39m\u001B[38;5;241m.\u001B[39mdownload_config,\n\u001B[0;32m    637\u001B[0m )\n\u001B[1;32m--> 638\u001B[0m module_name, default_builder_kwargs \u001B[38;5;241m=\u001B[39m \u001B[43minfer_module_for_data_files\u001B[49m\u001B[43m(\u001B[49m\n\u001B[0;32m    639\u001B[0m \u001B[43m    \u001B[49m\u001B[43mdata_files\u001B[49m\u001B[38;5;241;43m=\u001B[39;49m\u001B[43mdata_files\u001B[49m\u001B[43m,\u001B[49m\n\u001B[0;32m    640\u001B[0m \u001B[43m    \u001B[49m\u001B[43mpath\u001B[49m\u001B[38;5;241;43m=\u001B[39;49m\u001B[38;5;28;43mself\u001B[39;49m\u001B[38;5;241;43m.\u001B[39;49m\u001B[43mname\u001B[49m\u001B[43m,\u001B[49m\n\u001B[0;32m    641\u001B[0m \u001B[43m    \u001B[49m\u001B[43mdownload_config\u001B[49m\u001B[38;5;241;43m=\u001B[39;49m\u001B[38;5;28;43mself\u001B[39;49m\u001B[38;5;241;43m.\u001B[39;49m\u001B[43mdownload_config\u001B[49m\u001B[43m,\u001B[49m\n\u001B[0;32m    642\u001B[0m \u001B[43m\u001B[49m\u001B[43m)\u001B[49m\n\u001B[0;32m    643\u001B[0m data_files \u001B[38;5;241m=\u001B[39m data_files\u001B[38;5;241m.\u001B[39mfilter(\n\u001B[0;32m    644\u001B[0m     extensions\u001B[38;5;241m=\u001B[39m_MODULE_TO_EXTENSIONS[module_name], file_names\u001B[38;5;241m=\u001B[39m_MODULE_TO_METADATA_FILE_NAMES[module_name]\n\u001B[0;32m    645\u001B[0m )\n\u001B[0;32m    646\u001B[0m module_path, _ \u001B[38;5;241m=\u001B[39m _PACKAGED_DATASETS_MODULES[module_name]\n",
      "File \u001B[1;32m~\\PycharmProjects\\nlp-course-project\\newvenv\\lib\\site-packages\\datasets\\load.py:298\u001B[0m, in \u001B[0;36minfer_module_for_data_files\u001B[1;34m(data_files, path, download_config)\u001B[0m\n\u001B[0;32m    296\u001B[0m module_name, default_builder_kwargs \u001B[38;5;241m=\u001B[39m \u001B[38;5;28mnext\u001B[39m(\u001B[38;5;28miter\u001B[39m(split_modules\u001B[38;5;241m.\u001B[39mvalues()))\n\u001B[0;32m    297\u001B[0m \u001B[38;5;28;01mif\u001B[39;00m \u001B[38;5;28many\u001B[39m((module_name, default_builder_kwargs) \u001B[38;5;241m!=\u001B[39m split_module \u001B[38;5;28;01mfor\u001B[39;00m split_module \u001B[38;5;129;01min\u001B[39;00m split_modules\u001B[38;5;241m.\u001B[39mvalues()):\n\u001B[1;32m--> 298\u001B[0m     \u001B[38;5;28;01mraise\u001B[39;00m \u001B[38;5;167;01mValueError\u001B[39;00m(\u001B[38;5;124mf\u001B[39m\u001B[38;5;124m\"\u001B[39m\u001B[38;5;124mCouldn\u001B[39m\u001B[38;5;124m'\u001B[39m\u001B[38;5;124mt infer the same data file format for all splits. Got \u001B[39m\u001B[38;5;132;01m{\u001B[39;00msplit_modules\u001B[38;5;132;01m}\u001B[39;00m\u001B[38;5;124m\"\u001B[39m)\n\u001B[0;32m    299\u001B[0m \u001B[38;5;28;01mif\u001B[39;00m \u001B[38;5;129;01mnot\u001B[39;00m module_name:\n\u001B[0;32m    300\u001B[0m     \u001B[38;5;28;01mraise\u001B[39;00m DataFilesNotFoundError(\u001B[38;5;124m\"\u001B[39m\u001B[38;5;124mNo (supported) data files found\u001B[39m\u001B[38;5;124m\"\u001B[39m \u001B[38;5;241m+\u001B[39m (\u001B[38;5;124mf\u001B[39m\u001B[38;5;124m\"\u001B[39m\u001B[38;5;124m in \u001B[39m\u001B[38;5;132;01m{\u001B[39;00mpath\u001B[38;5;132;01m}\u001B[39;00m\u001B[38;5;124m\"\u001B[39m \u001B[38;5;28;01mif\u001B[39;00m path \u001B[38;5;28;01melse\u001B[39;00m \u001B[38;5;124m\"\u001B[39m\u001B[38;5;124m\"\u001B[39m))\n",
      "\u001B[1;31mValueError\u001B[0m: Couldn't infer the same data file format for all splits. Got {NamedSplit('train'): ('parquet', {}), NamedSplit('validation'): ('parquet', {}), NamedSplit('test'): ('json', {})}"
     ]
    }
   ],
   "source": [
    "from datasets import load_dataset\n",
    "dataset = load_dataset(\"coastalcph/tydi_xor_rc\")\n",
    "train_set = dataset[\"train\"]\n",
    "validation_set = dataset[\"validation\"]"
   ],
   "metadata": {
    "collapsed": false
   }
  },
  {
   "cell_type": "code",
   "execution_count": 5,
   "outputs": [],
   "source": [
    "import pandas as pd"
   ],
   "metadata": {
    "collapsed": false,
    "ExecuteTime": {
     "start_time": "2025-09-05T15:19:50.650608Z",
     "end_time": "2025-09-05T15:19:50.692246Z"
    }
   }
  },
  {
   "cell_type": "code",
   "execution_count": 18,
   "outputs": [],
   "source": [
    "validation_set = pd.read_parquet(\"data/validation.parquet\")\n",
    "train_set = pd.read_parquet(\"data/train.parquet\")"
   ],
   "metadata": {
    "collapsed": false,
    "ExecuteTime": {
     "start_time": "2025-09-05T15:39:42.043917Z",
     "end_time": "2025-09-05T15:39:42.942002Z"
    }
   }
  },
  {
   "cell_type": "code",
   "execution_count": null,
   "outputs": [],
   "source": [
    "def statistics(df):\n",
    "    pass"
   ],
   "metadata": {
    "collapsed": false
   }
  },
  {
   "cell_type": "code",
   "execution_count": 19,
   "outputs": [
    {
     "data": {
      "text/plain": "                                                question  \\\n0      উইকিলিকস কত সালে সর্বপ্রথম ইন্টারনেটে প্রথম তথ...   \n1               দ্বিতীয় বিশ্বযুদ্ধে কোন দেশ পরাজিত হয় ?   \n2      মার্কিন যুক্তরাষ্ট্রের সংবিধান অনুযায়ী মার্কিন...   \n3      আরব-ইসরায়েলি যুদ্ধে আরবের মোট কয়জন সৈন্যের মৃ...   \n4              বিশ্বে প্রথম পুঁজিবাদী সমাজ কবে গড়ে ওঠে ?   \n...                                                  ...   \n15338                               소말리아는 2차 개헌을 언제 했나요?   \n15339                         세상에서 가장 먼저 시작된 교통수단은 무엇인가?   \n15340                              2019년 이집트의 지도자는 누구인가?   \n15341                         독일에서 가장 인구밀도가 높은 도시는 무엇인가?   \n15342                               개혁침례교는 신교와 상관관계가있는가?   \n\n                                                 context lang  answerable  \\\n0      WikiLeaks () is an international non-profit or...   bn        True   \n1      The war in Europe concluded with an invasion o...   bn        True   \n2      Same-sex marriage in the United States expande...   bn       False   \n3      The exact number of Arab casualties is unknown...   bn        True   \n4      As Thomas Hall (2000) notes, \"The Sung Empire ...   bn        True   \n...                                                  ...  ...         ...   \n15338  In February 2012, Somali government officials ...   ko        True   \n15339  The first earth tracks were created by humans ...   ko        True   \n15340  Abdel Fattah Saeed Hussein Khalil El-Sisi ( \"\"...   ko        True   \n15341  Munich (; ; ) is the capital and most populous...   ko        True   \n15342  Anabaptism (from Neo-Latin \"anabaptista\", from...   ko       False   \n\n       answer_start                                     answer answer_inlang  \n0               182                                       2006          None  \n1                48                                    Germany          None  \n2                -1                                         no          None  \n3                39                                    unknown          None  \n4              1219                               17th century          None  \n...             ...                                        ...           ...  \n15338           923                               23 June 2012          None  \n15339           160                                    animals          None  \n15340             0  Abdel Fattah Saeed Hussein Khalil El-Sisi          None  \n15341           205                                     Berlin          None  \n15342            -1                                         no          None  \n\n[15343 rows x 7 columns]",
      "text/html": "<div>\n<style scoped>\n    .dataframe tbody tr th:only-of-type {\n        vertical-align: middle;\n    }\n\n    .dataframe tbody tr th {\n        vertical-align: top;\n    }\n\n    .dataframe thead th {\n        text-align: right;\n    }\n</style>\n<table border=\"1\" class=\"dataframe\">\n  <thead>\n    <tr style=\"text-align: right;\">\n      <th></th>\n      <th>question</th>\n      <th>context</th>\n      <th>lang</th>\n      <th>answerable</th>\n      <th>answer_start</th>\n      <th>answer</th>\n      <th>answer_inlang</th>\n    </tr>\n  </thead>\n  <tbody>\n    <tr>\n      <th>0</th>\n      <td>উইকিলিকস কত সালে সর্বপ্রথম ইন্টারনেটে প্রথম তথ...</td>\n      <td>WikiLeaks () is an international non-profit or...</td>\n      <td>bn</td>\n      <td>True</td>\n      <td>182</td>\n      <td>2006</td>\n      <td>None</td>\n    </tr>\n    <tr>\n      <th>1</th>\n      <td>দ্বিতীয় বিশ্বযুদ্ধে কোন দেশ পরাজিত হয় ?</td>\n      <td>The war in Europe concluded with an invasion o...</td>\n      <td>bn</td>\n      <td>True</td>\n      <td>48</td>\n      <td>Germany</td>\n      <td>None</td>\n    </tr>\n    <tr>\n      <th>2</th>\n      <td>মার্কিন যুক্তরাষ্ট্রের সংবিধান অনুযায়ী মার্কিন...</td>\n      <td>Same-sex marriage in the United States expande...</td>\n      <td>bn</td>\n      <td>False</td>\n      <td>-1</td>\n      <td>no</td>\n      <td>None</td>\n    </tr>\n    <tr>\n      <th>3</th>\n      <td>আরব-ইসরায়েলি যুদ্ধে আরবের মোট কয়জন সৈন্যের মৃ...</td>\n      <td>The exact number of Arab casualties is unknown...</td>\n      <td>bn</td>\n      <td>True</td>\n      <td>39</td>\n      <td>unknown</td>\n      <td>None</td>\n    </tr>\n    <tr>\n      <th>4</th>\n      <td>বিশ্বে প্রথম পুঁজিবাদী সমাজ কবে গড়ে ওঠে ?</td>\n      <td>As Thomas Hall (2000) notes, \"The Sung Empire ...</td>\n      <td>bn</td>\n      <td>True</td>\n      <td>1219</td>\n      <td>17th century</td>\n      <td>None</td>\n    </tr>\n    <tr>\n      <th>...</th>\n      <td>...</td>\n      <td>...</td>\n      <td>...</td>\n      <td>...</td>\n      <td>...</td>\n      <td>...</td>\n      <td>...</td>\n    </tr>\n    <tr>\n      <th>15338</th>\n      <td>소말리아는 2차 개헌을 언제 했나요?</td>\n      <td>In February 2012, Somali government officials ...</td>\n      <td>ko</td>\n      <td>True</td>\n      <td>923</td>\n      <td>23 June 2012</td>\n      <td>None</td>\n    </tr>\n    <tr>\n      <th>15339</th>\n      <td>세상에서 가장 먼저 시작된 교통수단은 무엇인가?</td>\n      <td>The first earth tracks were created by humans ...</td>\n      <td>ko</td>\n      <td>True</td>\n      <td>160</td>\n      <td>animals</td>\n      <td>None</td>\n    </tr>\n    <tr>\n      <th>15340</th>\n      <td>2019년 이집트의 지도자는 누구인가?</td>\n      <td>Abdel Fattah Saeed Hussein Khalil El-Sisi ( \"\"...</td>\n      <td>ko</td>\n      <td>True</td>\n      <td>0</td>\n      <td>Abdel Fattah Saeed Hussein Khalil El-Sisi</td>\n      <td>None</td>\n    </tr>\n    <tr>\n      <th>15341</th>\n      <td>독일에서 가장 인구밀도가 높은 도시는 무엇인가?</td>\n      <td>Munich (; ; ) is the capital and most populous...</td>\n      <td>ko</td>\n      <td>True</td>\n      <td>205</td>\n      <td>Berlin</td>\n      <td>None</td>\n    </tr>\n    <tr>\n      <th>15342</th>\n      <td>개혁침례교는 신교와 상관관계가있는가?</td>\n      <td>Anabaptism (from Neo-Latin \"anabaptista\", from...</td>\n      <td>ko</td>\n      <td>False</td>\n      <td>-1</td>\n      <td>no</td>\n      <td>None</td>\n    </tr>\n  </tbody>\n</table>\n<p>15343 rows × 7 columns</p>\n</div>"
     },
     "execution_count": 19,
     "metadata": {},
     "output_type": "execute_result"
    }
   ],
   "source": [
    "train_set"
   ],
   "metadata": {
    "collapsed": false,
    "ExecuteTime": {
     "start_time": "2025-09-05T15:39:43.958583Z",
     "end_time": "2025-09-05T15:39:43.996835Z"
    }
   }
  },
  {
   "cell_type": "code",
   "execution_count": 15,
   "outputs": [
    {
     "data": {
      "text/plain": "Generating train split: 0 examples [00:00, ? examples/s]",
      "application/vnd.jupyter.widget-view+json": {
       "version_major": 2,
       "version_minor": 0,
       "model_id": "0e8fd3223e66450893efa516d84ef024"
      }
     },
     "metadata": {},
     "output_type": "display_data"
    },
    {
     "data": {
      "text/plain": "Generating validation split: 0 examples [00:00, ? examples/s]",
      "application/vnd.jupyter.widget-view+json": {
       "version_major": 2,
       "version_minor": 0,
       "model_id": "e0b69562d7234f118e47ba8cd6883123"
      }
     },
     "metadata": {},
     "output_type": "display_data"
    },
    {
     "data": {
      "text/plain": "Generating test split: 0 examples [00:00, ? examples/s]",
      "application/vnd.jupyter.widget-view+json": {
       "version_major": 2,
       "version_minor": 0,
       "model_id": "097184d978ce4833b8eb5a49c0d7687f"
      }
     },
     "metadata": {},
     "output_type": "display_data"
    }
   ],
   "source": [
    "train_ds = load_dataset(\n",
    "    \"parquet\",\n",
    "    data_files={\"train\": \"data/train.parquet\"}\n",
    ")[\"train\"]\n",
    "\n",
    "val_ds = load_dataset(\n",
    "    \"parquet\",\n",
    "    data_files={\"validation\": \"data/validation.parquet\"}\n",
    ")[\"validation\"]\n",
    "\n",
    "test_ds = load_dataset(\n",
    "    \"json\",\n",
    "    data_files={\"test\": \"data/test.json\"}\n",
    ")[\"test\"]"
   ],
   "metadata": {
    "collapsed": false,
    "ExecuteTime": {
     "start_time": "2025-09-05T15:37:10.465065Z",
     "end_time": "2025-09-05T15:37:11.785545Z"
    }
   }
  },
  {
   "cell_type": "code",
   "execution_count": 16,
   "outputs": [
    {
     "data": {
      "text/plain": "Dataset({\n    features: ['question', 'context', 'lang', 'answerable', 'answer_start', 'answer', 'answer_inlang'],\n    num_rows: 15343\n})"
     },
     "execution_count": 16,
     "metadata": {},
     "output_type": "execute_result"
    }
   ],
   "source": [
    "train_ds"
   ],
   "metadata": {
    "collapsed": false,
    "ExecuteTime": {
     "start_time": "2025-09-05T15:39:19.570015Z",
     "end_time": "2025-09-05T15:39:19.634876Z"
    }
   }
  },
  {
   "cell_type": "code",
   "execution_count": null,
   "outputs": [],
   "source": [],
   "metadata": {
    "collapsed": false
   }
  }
 ],
 "metadata": {
  "kernelspec": {
   "display_name": "Python 3",
   "language": "python",
   "name": "python3"
  },
  "language_info": {
   "codemirror_mode": {
    "name": "ipython",
    "version": 2
   },
   "file_extension": ".py",
   "mimetype": "text/x-python",
   "name": "python",
   "nbconvert_exporter": "python",
   "pygments_lexer": "ipython2",
   "version": "2.7.6"
  }
 },
 "nbformat": 4,
 "nbformat_minor": 0
}
